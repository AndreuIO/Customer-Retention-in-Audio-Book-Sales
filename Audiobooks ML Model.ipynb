{
 "cells": [
  {
   "cell_type": "code",
   "execution_count": 1,
   "id": "e49542cf",
   "metadata": {},
   "outputs": [],
   "source": [
    "import numpy as np\n",
    "import tensorflow as tf"
   ]
  },
  {
   "cell_type": "markdown",
   "id": "c4f052cb",
   "metadata": {},
   "source": [
    "**Loading the NPZ Data**"
   ]
  },
  {
   "cell_type": "code",
   "execution_count": 21,
   "id": "2036070c",
   "metadata": {},
   "outputs": [
    {
     "name": "stderr",
     "output_type": "stream",
     "text": [
      "C:\\Users\\ASUS\\AppData\\Local\\Temp\\ipykernel_14276\\4061884859.py:2: DeprecationWarning: `np.float` is a deprecated alias for the builtin `float`. To silence this warning, use `float` by itself. Doing this will not modify any behavior and is safe. If you specifically wanted the numpy scalar type, use `np.float64` here.\n",
      "Deprecated in NumPy 1.20; for more details and guidance: https://numpy.org/devdocs/release/1.20.0-notes.html#deprecations\n",
      "  train_inputs = npz['inputs'].astype(np.float)\n",
      "C:\\Users\\ASUS\\AppData\\Local\\Temp\\ipykernel_14276\\4061884859.py:3: DeprecationWarning: `np.int` is a deprecated alias for the builtin `int`. To silence this warning, use `int` by itself. Doing this will not modify any behavior and is safe. When replacing `np.int`, you may wish to use e.g. `np.int64` or `np.int32` to specify the precision. If you wish to review your current use, check the release note link for additional information.\n",
      "Deprecated in NumPy 1.20; for more details and guidance: https://numpy.org/devdocs/release/1.20.0-notes.html#deprecations\n",
      "  train_targets = npz['targets'].astype(np.int)\n",
      "C:\\Users\\ASUS\\AppData\\Local\\Temp\\ipykernel_14276\\4061884859.py:6: DeprecationWarning: `np.float` is a deprecated alias for the builtin `float`. To silence this warning, use `float` by itself. Doing this will not modify any behavior and is safe. If you specifically wanted the numpy scalar type, use `np.float64` here.\n",
      "Deprecated in NumPy 1.20; for more details and guidance: https://numpy.org/devdocs/release/1.20.0-notes.html#deprecations\n",
      "  validation_inputs = npz['inputs'].astype(np.float)\n",
      "C:\\Users\\ASUS\\AppData\\Local\\Temp\\ipykernel_14276\\4061884859.py:7: DeprecationWarning: `np.int` is a deprecated alias for the builtin `int`. To silence this warning, use `int` by itself. Doing this will not modify any behavior and is safe. When replacing `np.int`, you may wish to use e.g. `np.int64` or `np.int32` to specify the precision. If you wish to review your current use, check the release note link for additional information.\n",
      "Deprecated in NumPy 1.20; for more details and guidance: https://numpy.org/devdocs/release/1.20.0-notes.html#deprecations\n",
      "  validation_targets = npz['targets'].astype(np.int)\n",
      "C:\\Users\\ASUS\\AppData\\Local\\Temp\\ipykernel_14276\\4061884859.py:10: DeprecationWarning: `np.float` is a deprecated alias for the builtin `float`. To silence this warning, use `float` by itself. Doing this will not modify any behavior and is safe. If you specifically wanted the numpy scalar type, use `np.float64` here.\n",
      "Deprecated in NumPy 1.20; for more details and guidance: https://numpy.org/devdocs/release/1.20.0-notes.html#deprecations\n",
      "  test_inputs = npz['inputs'].astype(np.float)\n",
      "C:\\Users\\ASUS\\AppData\\Local\\Temp\\ipykernel_14276\\4061884859.py:11: DeprecationWarning: `np.int` is a deprecated alias for the builtin `int`. To silence this warning, use `int` by itself. Doing this will not modify any behavior and is safe. When replacing `np.int`, you may wish to use e.g. `np.int64` or `np.int32` to specify the precision. If you wish to review your current use, check the release note link for additional information.\n",
      "Deprecated in NumPy 1.20; for more details and guidance: https://numpy.org/devdocs/release/1.20.0-notes.html#deprecations\n",
      "  test_targets = npz['targets'].astype(np.int)\n"
     ]
    }
   ],
   "source": [
    "npz = np.load('Audiobooks_data_train.npz')\n",
    "train_inputs = npz['inputs'].astype(np.float)\n",
    "train_targets = npz['targets'].astype(np.int)\n",
    "\n",
    "npz = np.load('Audiobooks_data_validation.npz')\n",
    "validation_inputs = npz['inputs'].astype(np.float)\n",
    "validation_targets = npz['targets'].astype(np.int)\n",
    "\n",
    "npz = np.load('Audiobooks_data_test.npz')\n",
    "test_inputs = npz['inputs'].astype(np.float)\n",
    "test_targets = npz['targets'].astype(np.int)"
   ]
  },
  {
   "cell_type": "markdown",
   "id": "3b7e2e3e",
   "metadata": {},
   "source": [
    "**Model**\n",
    "Outline, optimizer, loss function, early stop and train"
   ]
  },
  {
   "cell_type": "code",
   "execution_count": 22,
   "id": "822e3215",
   "metadata": {},
   "outputs": [
    {
     "name": "stdout",
     "output_type": "stream",
     "text": [
      "Epoch 1/100\n",
      "36/36 - 1s - loss: 2.3893 - accuracy: 0.6971 - val_loss: 1.1812 - val_accuracy: 0.8658 - 1s/epoch - 29ms/step\n",
      "Epoch 2/100\n",
      "36/36 - 0s - loss: 0.6905 - accuracy: 0.8854 - val_loss: 0.3831 - val_accuracy: 0.8837 - 110ms/epoch - 3ms/step\n",
      "Epoch 3/100\n",
      "36/36 - 0s - loss: 0.3124 - accuracy: 0.8975 - val_loss: 0.2873 - val_accuracy: 0.9060 - 102ms/epoch - 3ms/step\n",
      "Epoch 4/100\n",
      "36/36 - 0s - loss: 0.2757 - accuracy: 0.9044 - val_loss: 0.2865 - val_accuracy: 0.9060 - 100ms/epoch - 3ms/step\n",
      "Epoch 5/100\n",
      "36/36 - 0s - loss: 0.2723 - accuracy: 0.8977 - val_loss: 0.3039 - val_accuracy: 0.8881 - 95ms/epoch - 3ms/step\n",
      "Epoch 6/100\n",
      "36/36 - 0s - loss: 0.2668 - accuracy: 0.8986 - val_loss: 0.2741 - val_accuracy: 0.8993 - 100ms/epoch - 3ms/step\n",
      "Epoch 7/100\n",
      "36/36 - 0s - loss: 0.2610 - accuracy: 0.9053 - val_loss: 0.2722 - val_accuracy: 0.9060 - 102ms/epoch - 3ms/step\n",
      "Epoch 8/100\n",
      "36/36 - 0s - loss: 0.2509 - accuracy: 0.9058 - val_loss: 0.2688 - val_accuracy: 0.9150 - 106ms/epoch - 3ms/step\n",
      "Epoch 9/100\n",
      "36/36 - 0s - loss: 0.2530 - accuracy: 0.9064 - val_loss: 0.2678 - val_accuracy: 0.9128 - 128ms/epoch - 4ms/step\n",
      "Epoch 10/100\n",
      "36/36 - 0s - loss: 0.2511 - accuracy: 0.9030 - val_loss: 0.2554 - val_accuracy: 0.9172 - 106ms/epoch - 3ms/step\n",
      "Epoch 11/100\n",
      "36/36 - 0s - loss: 0.2492 - accuracy: 0.9053 - val_loss: 0.2712 - val_accuracy: 0.9083 - 100ms/epoch - 3ms/step\n",
      "Epoch 12/100\n",
      "36/36 - 0s - loss: 0.2513 - accuracy: 0.9056 - val_loss: 0.2605 - val_accuracy: 0.9150 - 104ms/epoch - 3ms/step\n"
     ]
    },
    {
     "data": {
      "text/plain": [
       "<keras.callbacks.History at 0x162a9bb62c0>"
      ]
     },
     "execution_count": 22,
     "metadata": {},
     "output_type": "execute_result"
    }
   ],
   "source": [
    "input_size = 10\n",
    "out_size = 2\n",
    "hidden_layer_size = 50\n",
    "\n",
    "model = tf.keras.Sequential([\n",
    "                    tf.keras.layers.Dense(hidden_layer_size, activation='tanh'),\n",
    "                    tf.keras.layers.Dense(hidden_layer_size, activation='tanh'),\n",
    "                    tf.keras.layers.Dense(hidden_layer_size, activation='tanh'),\n",
    "                    tf.keras.layers.Dense(hidden_layer_size, activation='tanh'),\n",
    "                    tf.keras.layers.Dense(hidden_layer_size, activation='tanh'),\n",
    "                    tf.keras.layers.Dense(hidden_layer_size, activation='softmax')\n",
    "])\n",
    "\n",
    "model.compile(optimizer='adam', loss='sparse_categorical_crossentropy', metrics=['accuracy'])\n",
    "\n",
    "batch_size = 100\n",
    "max_epochs = 100\n",
    "early_stopping = tf.keras.callbacks.EarlyStopping(patience=2)\n",
    "model.fit(train_inputs,\n",
    "          train_targets,\n",
    "          epochs=max_epochs,\n",
    "          batch_size=batch_size,\n",
    "          callbacks=[early_stopping],\n",
    "          validation_data=(validation_inputs, validation_targets), \n",
    "          verbose=2 )"
   ]
  },
  {
   "cell_type": "markdown",
   "id": "6e60df7f",
   "metadata": {},
   "source": [
    "**Testing the Model**"
   ]
  },
  {
   "cell_type": "code",
   "execution_count": 23,
   "id": "225281c1",
   "metadata": {},
   "outputs": [
    {
     "name": "stdout",
     "output_type": "stream",
     "text": [
      "14/14 [==============================] - 0s 2ms/step - loss: 0.2634 - accuracy: 0.9062\n"
     ]
    }
   ],
   "source": [
    "test_loss, test_accuracy = model.evaluate(test_inputs, test_targets)"
   ]
  },
  {
   "cell_type": "code",
   "execution_count": null,
   "id": "6a5d68e9",
   "metadata": {},
   "outputs": [],
   "source": []
  }
 ],
 "metadata": {
  "kernelspec": {
   "display_name": "Python 3 (ipykernel)",
   "language": "python",
   "name": "python3"
  },
  "language_info": {
   "codemirror_mode": {
    "name": "ipython",
    "version": 3
   },
   "file_extension": ".py",
   "mimetype": "text/x-python",
   "name": "python",
   "nbconvert_exporter": "python",
   "pygments_lexer": "ipython3",
   "version": "3.10.9"
  }
 },
 "nbformat": 4,
 "nbformat_minor": 5
}
