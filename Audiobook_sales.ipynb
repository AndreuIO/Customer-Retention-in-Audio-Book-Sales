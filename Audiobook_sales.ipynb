{
 "cells": [
  {
   "cell_type": "code",
   "execution_count": 3,
   "id": "7e00367a",
   "metadata": {},
   "outputs": [],
   "source": [
    "import numpy as np\n",
    "from sklearn import preprocessing "
   ]
  },
  {
   "cell_type": "code",
   "execution_count": 4,
   "id": "25dc17a5",
   "metadata": {},
   "outputs": [],
   "source": [
    "raw_data = np.loadtxt('Audiobooks_data.csv', delimiter=',')\n",
    "\n",
    "unscaled_inputs_all = raw_data[:, 1:-1]\n",
    "targets_all = raw_data[:,-1]"
   ]
  },
  {
   "cell_type": "markdown",
   "id": "7535da8b",
   "metadata": {},
   "source": [
    "# Balancing the dataset"
   ]
  },
  {
   "cell_type": "code",
   "execution_count": 5,
   "id": "d0678cd4",
   "metadata": {},
   "outputs": [],
   "source": [
    "num_one_targets = int(np.sum(targets_all))\n",
    "zero_targets_counter = 0\n",
    "indice_to_remove = []\n",
    "\n",
    "for i in range(targets_all.shape[0]):\n",
    "    if targets_all[i] == 0:\n",
    "        zero_targets_counter += 1\n",
    "        if zero_targets_counter > num_one_targets:\n",
    "            indice_to_remove.append(i)\n",
    "            \n",
    "unscaled_inputs_equal_prior = np.delete(unscaled_inputs_all, indice_to_remove, axis=0)\n",
    "targets_equal_prior = np.delete(targets_all, indice_to_remove, axis=0)"
   ]
  },
  {
   "cell_type": "markdown",
   "id": "bc73eda7",
   "metadata": {},
   "source": [
    "**Standardizing the inputs**"
   ]
  },
  {
   "cell_type": "code",
   "execution_count": 6,
   "id": "7f74f690",
   "metadata": {},
   "outputs": [],
   "source": [
    "scaled_inputs = preprocessing.scale(unscaled_inputs_equal_prior)"
   ]
  },
  {
   "cell_type": "markdown",
   "id": "0e207479",
   "metadata": {},
   "source": [
    "**Shuffling the Dataset**"
   ]
  },
  {
   "cell_type": "code",
   "execution_count": 9,
   "id": "a2028b6b",
   "metadata": {},
   "outputs": [],
   "source": [
    "shuffled_indice = np.arange(scaled_inputs.shape[0])\n",
    "np.random.shuffle(shuffled_indice)\n",
    "\n",
    "shuffled_inputs = scaled_inputs[shuffled_indice]\n",
    "shuffled_targets = targets_equal_prior[shuffled_indice]"
   ]
  },
  {
   "cell_type": "markdown",
   "id": "d7cc5801",
   "metadata": {},
   "source": [
    "**Splitting the dataset into Train, Validation and test samples**"
   ]
  },
  {
   "cell_type": "code",
   "execution_count": 15,
   "id": "40250d04",
   "metadata": {},
   "outputs": [
    {
     "name": "stdout",
     "output_type": "stream",
     "text": [
      "1807.0 3579 0.504889633975971\n",
      "214.0 447 0.47874720357941836\n",
      "216.0 448 0.48214285714285715\n"
     ]
    }
   ],
   "source": [
    "samples_count = shuffled_inputs.shape[0]\n",
    "\n",
    "train_samples_count = int(0.8*samples_count)\n",
    "validation_samples_count = int(0.1*samples_count)\n",
    "test_samples_count = samples_count - train_samples_count - validation_samples_count\n",
    "\n",
    "\n",
    "train_inputs = shuffled_inputs[:train_samples_count]\n",
    "train_targets = shuffled_targets[:train_samples_count]\n",
    "\n",
    "validation_inputs = shuffled_inputs[train_samples_count:train_samples_count+validation_samples_count]\n",
    "validation_targets = shuffled_targets[train_samples_count:train_samples_count+validation_samples_count]\n",
    "\n",
    "test_inputs = shuffled_inputs[train_samples_count + validation_samples_count:]\n",
    "test_targets = shuffled_targets[train_samples_count + validation_samples_count:]\n",
    "\n",
    "#print the sizes of my splitted dataset\n",
    "print(np.sum(train_targets), train_samples_count, np.sum(train_targets)/train_samples_count)\n",
    "print(np.sum(validation_targets), validation_samples_count, np.sum(validation_targets)/ validation_samples_count)\n",
    "print(np.sum(test_targets), test_samples_count, np.sum(test_targets)/test_samples_count)"
   ]
  },
  {
   "cell_type": "markdown",
   "id": "c6945d6a",
   "metadata": {},
   "source": [
    "**Save the three datasets in npz format**"
   ]
  },
  {
   "cell_type": "code",
   "execution_count": 16,
   "id": "5945c109",
   "metadata": {},
   "outputs": [],
   "source": [
    "np.savez('Audiobooks_data_train', inputs= train_inputs, targets= train_targets)\n",
    "np.savez('Audiobooks_data_validation', inputs= validation_inputs, targets= validation_targets)\n",
    "np.savez('Audiobooks_data_test', inputs= test_inputs, targets= test_targets)"
   ]
  },
  {
   "cell_type": "code",
   "execution_count": null,
   "id": "ca31daa0",
   "metadata": {},
   "outputs": [],
   "source": []
  }
 ],
 "metadata": {
  "kernelspec": {
   "display_name": "Python 3 (ipykernel)",
   "language": "python",
   "name": "python3"
  },
  "language_info": {
   "codemirror_mode": {
    "name": "ipython",
    "version": 3
   },
   "file_extension": ".py",
   "mimetype": "text/x-python",
   "name": "python",
   "nbconvert_exporter": "python",
   "pygments_lexer": "ipython3",
   "version": "3.10.9"
  }
 },
 "nbformat": 4,
 "nbformat_minor": 5
}
